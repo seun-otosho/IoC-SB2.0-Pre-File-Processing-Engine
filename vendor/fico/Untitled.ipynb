{
 "cells": [
  {
   "cell_type": "code",
   "execution_count": null,
   "metadata": {
    "collapsed": true
   },
   "outputs": [],
   "source": [
    "from sqlalchemy import create_engine\n",
    "from sqlalchemy.sql import text\n",
    "\n",
    "scores_tns = '(DESCRIPTION = (ADDRESS = (PROTOCOL = TCP)(HOST = 172.16.1.16)(PORT = 1521)) '\n",
    "scores_tns += '(CONNECT_DATA = (SERVER = DEDICATED) (SERVICE_NAME = crcpdb01) ) )'\n",
    "scores_con = create_engine(\"oracle+cx_oracle://scores:scores@\" + scores_tns)"
   ]
  },
  {
   "cell_type": "code",
   "execution_count": null,
   "metadata": {
    "collapsed": true
   },
   "outputs": [],
   "source": [
    "def drop_table(table_name):\n",
    "    return '''\n",
    "    drop table {}\n",
    "    '''.format(table_name)"
   ]
  },
  {
   "cell_type": "code",
   "execution_count": null,
   "metadata": {
    "collapsed": true
   },
   "outputs": [],
   "source": [
    "def count_table(table_name):\n",
    "    return '''\n",
    "    select count (*) from {}\n",
    "    '''.format(table_name)"
   ]
  },
  {
   "cell_type": "code",
   "execution_count": null,
   "metadata": {
    "collapsed": true
   },
   "outputs": [],
   "source": [
    "ff_fico_00a00 = (\"cb_CONS_CREDIT_hst\", \"\"\"\n",
    "CREATE TABLE cb_CONS_CREDIT_hst\n",
    "AS\n",
    "  SELECT DISTINCT\n",
    "    to_char(HSTF.UNIQUE_ROOT_ID)                                                                UNIQUE_ROOT_ID,\n",
    "    to_char(HSTF.primary_ROOT_ID)                                                               primary_ROOT_ID,\n",
    "    TRUNC(MONTHS_BETWEEN(LAST_DAY(SCAL.DATE_REPORTED), LAST_DAY(HSTF.DATE_REPORTED)))           MONTH_INDEX,\n",
    "    TO_CHAR(SCAL.DATE_REPORTED, 'YYYY-MM-DD')                                                   DATE_REPORTED,\n",
    "    TO_CHAR(HSTF.DATE_REPORTED, 'YYYY-MM-DD')                                                   HST_DATE_REPORTED,\n",
    "    GREATEST(HSTF.MAX_NUM_DAYS_DUE, HSTF.MAX_NUM_DAYS_DUE_INT)                                  NDOD,\n",
    "    ROUND(ABS(HSTF.OVER_DUE_AMT_INT + HSTF.OVER_DUE_AMT_PRICIPAL) * NVL(ER.SELLING_RATE, 1), 2) OVERDUE_AMT,\n",
    "    ROUND(ABS(HSTF.CURRENT_BAL) * NVL(ER.SELLING_RATE, 1), 2)                                   BALANCE,\n",
    "    hstf.file_id\n",
    "  FROM sbhistory.HST_CONS_CREDIT_FACILITY@sb2a12 HSTF,\n",
    "    (SELECT *\n",
    "     FROM (\n",
    "       SELECT\n",
    "         a.*,\n",
    "         rank()\n",
    "         OVER (PARTITION BY unique_root_id\n",
    "           ORDER BY date_reported DESC) rnk\n",
    "       FROM sbinternal.sb_cons_account_lookup@sb2a12 a\n",
    "     )\n",
    "     WHERE rnk = 1\n",
    "    ) SCAL,\n",
    "    sbapi.AA_FICO_EXRATE@sb2a12 ER\n",
    "  WHERE ER.CURR_CODE (+) = HSTF.CURRENCY\n",
    "        AND HSTF.DATE_REPORTED BETWEEN ADD_MONTHS(SCAL.DATE_REPORTED, -23) AND SCAL.DATE_REPORTED\n",
    "        AND HSTF.DATE_REPORTED <> SCAL.DATE_REPORTED\n",
    "        AND HSTF.UNIQUE_ROOT_ID = SCAL.UNIQUE_ROOT_ID\n",
    "        AND SCAL.ACC_STATUS <> '002'\n",
    "\"\"\")"
   ]
  },
  {
   "cell_type": "code",
   "execution_count": null,
   "metadata": {
    "collapsed": true
   },
   "outputs": [],
   "source": [
    "ff_fico_00a01 = (\"mf_CONS_CREDIT_hst\", \"\"\"\n",
    "CREATE TABLE mf_CONS_CREDIT_hst\n",
    "AS\n",
    "  SELECT DISTINCT\n",
    "    to_char(HSTF.UNIQUE_ROOT_ID)                                                      UNIQUE_ROOT_ID,\n",
    "    to_char(HSTF.primary_ROOT_ID)                                                     primary_ROOT_ID,\n",
    "    TRUNC(MONTHS_BETWEEN(LAST_DAY(SCAL.DATE_REPORTED), LAST_DAY(HSTF.DATE_REPORTED))) MONTH_INDEX,\n",
    "    TO_CHAR(SCAL.DATE_REPORTED, 'YYYY-MM-DD')                                         DATE_REPORTED,\n",
    "    TO_CHAR(HSTF.DATE_REPORTED, 'YYYY-MM-DD')                                         HST_DATE_REPORTED,\n",
    "    GREATEST(HSTF.MAX_NUM_DAYS_DUE)                                                   NDOD,\n",
    "    ROUND(ABS(HSTF.OVER_DUE_AMT_PRICIPAL) * NVL(ER.SELLING_RATE, 1), 2)               OVERDUE_AMT,\n",
    "    ROUND(ABS(HSTF.CURRENT_BAL) * NVL(ER.SELLING_RATE, 1), 2)                         BALANCE,\n",
    "    hstf.file_id\n",
    "  FROM sbhistory.HST_MFCONS_CREDIT_FACILITY@sb2a12 HSTF,\n",
    "    (SELECT *\n",
    "     FROM (\n",
    "       SELECT\n",
    "         a.*,\n",
    "         rank()\n",
    "         OVER (PARTITION BY unique_root_id\n",
    "           ORDER BY date_reported DESC) rnk\n",
    "       FROM sbinternal.sb_mfcons_account_lookup@sb2a12 a\n",
    "     )\n",
    "     WHERE rnk = 1\n",
    "    ) SCAL,\n",
    "    sbapi.AA_FICO_EXRATE@sb2a12 ER\n",
    "  WHERE ER.CURR_CODE (+) = HSTF.CURRENCY\n",
    "        AND HSTF.DATE_REPORTED \n",
    "            BETWEEN ADD_MONTHS(SCAL.DATE_REPORTED, -23) AND SCAL.DATE_REPORTED\n",
    "        AND HSTF.DATE_REPORTED <> SCAL.DATE_REPORTED\n",
    "        AND HSTF.UNIQUE_ROOT_ID = SCAL.UNIQUE_ROOT_ID\n",
    "        --         AND HSTF.SIN = SCAL.SIN\n",
    "        AND SCAL.ACC_STATUS <> '002'\n",
    "\"\"\")"
   ]
  },
  {
   "cell_type": "code",
   "execution_count": null,
   "metadata": {
    "collapsed": true
   },
   "outputs": [],
   "source": [
    "ff_fico_00a02 = (\"mg_CONS_CREDIT_hst\", \"\"\"\n",
    "CREATE TABLE mg_CONS_CREDIT_hst\n",
    "AS\n",
    "  SELECT DISTINCT\n",
    "    to_char(HSTF.UNIQUE_ROOT_ID)                                                                    UNIQUE_ROOT_ID,\n",
    "    to_char(HSTF.primary_ROOT_ID)                                                                   primary_ROOT_ID,\n",
    "    TRUNC(MONTHS_BETWEEN(LAST_DAY(SCAL.DATE_REPORTED), LAST_DAY(HSTF.DATE_REPORTED)))               MONTH_INDEX,\n",
    "    TO_CHAR(SCAL.DATE_REPORTED, 'YYYY-MM-DD')                                                       DATE_REPORTED,\n",
    "    TO_CHAR(HSTF.DATE_REPORTED, 'YYYY-MM-DD')                                                       HST_DATE_REPORTED,\n",
    "    GREATEST(HSTF.DAYS_OVERDUE_PRINCIPAL, HSTF.DAYS_OVERDUE_INTEREST)                               NDOD,\n",
    "    ROUND(ABS(HSTF.AMT_OVERDUE_INTEREST + HSTF.AMT_OVERDUE_PRINCIPAL) * NVL(ER.SELLING_RATE, 1), 2) OVERDUE_AMT,\n",
    "    ROUND(ABS(HSTF.ACCOUNT_BALANCE) * NVL(ER.SELLING_RATE, 1), 2)                                   BALANCE,\n",
    "    hstf.file_id\n",
    "  FROM sbhistory.HST_MGCONS_FACILITY@sb2a12 HSTF,\n",
    "    (SELECT *\n",
    "     FROM (\n",
    "       SELECT\n",
    "         a.*,\n",
    "         rank()\n",
    "         OVER (PARTITION BY unique_root_id\n",
    "           ORDER BY date_reported DESC) rnk\n",
    "       FROM sbinternal.sb_mgcons_account_lookup@sb2a12 a\n",
    "     )\n",
    "     WHERE rnk = 1\n",
    "    ) SCAL,\n",
    "    sbapi.AA_FICO_EXRATE@sb2a12 ER\n",
    "  WHERE ER.CURR_CODE (+) = HSTF.CURRENCY\n",
    "        AND HSTF.DATE_REPORTED \n",
    "            BETWEEN ADD_MONTHS(SCAL.DATE_REPORTED, -23) AND SCAL.DATE_REPORTED\n",
    "        AND HSTF.DATE_REPORTED <> SCAL.DATE_REPORTED\n",
    "        AND HSTF.UNIQUE_ROOT_ID = SCAL.UNIQUE_ROOT_ID\n",
    "        --         AND HSTF.SIN = SCAL.SIN\n",
    "        AND SCAL.ACCount_STATUS <> '002'\n",
    "\"\"\")"
   ]
  },
  {
   "cell_type": "code",
   "execution_count": null,
   "metadata": {
    "collapsed": true
   },
   "outputs": [],
   "source": [
    "ff_fico_00a03 = (\"cb_data_block_builds\", \"\"\"\n",
    "CREATE TABLE cb_data_block_builds AS\n",
    "  SELECT DISTINCT\n",
    "    'CM'                     segment,\n",
    "    cm.merged_ruid,\n",
    "    scal.unique_root_id,\n",
    "    scal.primary_root_id,\n",
    "    currency,\n",
    "    scal.data_prdr_id,\n",
    "    first_disburse_date,\n",
    "    sanction_date,\n",
    "    sanction_amt,\n",
    "    installment_amount_int,\n",
    "    installment_amount,\n",
    "    reason_for_closure,\n",
    "    loan_type,\n",
    "    number_of_installments,\n",
    "    no_of_installments_int,\n",
    "    repayment_cycle,\n",
    "    current_bal,\n",
    "    last_amount_paid,\n",
    "    last_amount_paid_int,\n",
    "    over_due_amt_pricipal,\n",
    "    over_due_amt_int,\n",
    "    max_num_days_due,\n",
    "    max_num_days_due_int,\n",
    "    asset_classification,\n",
    "    acc_status,\n",
    "    scal.date_reported,\n",
    "    date_latest_pay_received,\n",
    "    date_latest_pay_received_int,\n",
    "    date_acc_close,\n",
    "    dispute_id,\n",
    "    cast('' AS VARCHAR2(10)) dispute_status,\n",
    "    --    scal.sin,\n",
    "    cm.date_of_birth,\n",
    "    cm.gender,\n",
    "    cm.sub_nationality, scal.file_id\n",
    "  FROM (SELECT *\n",
    "        FROM (\n",
    "          SELECT\n",
    "            a.*,\n",
    "            rank()\n",
    "            OVER (PARTITION BY unique_root_id\n",
    "              ORDER BY date_reported DESC) rnk\n",
    "          FROM sbinternal.sb_cons_account_lookup@sb2SUB12 a\n",
    "        )\n",
    "        WHERE rnk = 1\n",
    "       ) scal,\n",
    "    sbinternal.consumer_master@sb2SUB12 cm,\n",
    "    (SELECT *\n",
    "     FROM (\n",
    "       SELECT\n",
    "         a.*,\n",
    "         rank()\n",
    "         OVER (PARTITION BY unique_root_id\n",
    "           ORDER BY date_reported DESC) rnk\n",
    "       FROM sbinternal.sb_cons_subject_lookup@sb2SUB12 a\n",
    "     )\n",
    "     WHERE rnk = 1\n",
    "    ) scsl\n",
    "  WHERE scsl.isdelinked IS NULL\n",
    "        AND (cm.ruid = scsl.ruid OR cm.merged_ruid = scsl.ruid)\n",
    "        AND scal.unique_root_id = scsl.unique_root_id\n",
    "\"\"\")"
   ]
  },
  {
   "cell_type": "code",
   "execution_count": null,
   "metadata": {
    "collapsed": true
   },
   "outputs": [],
   "source": [
    "ff_fico_00a04 = (\"mf_data_block_builds\", \"\"\"\n",
    "CREATE TABLE mf_data_block_builds AS\n",
    "  SELECT DISTINCT\n",
    "    'MF'                     segment,\n",
    "    cm.merged_ruid,\n",
    "    scal.unique_root_id,\n",
    "    scal.primary_root_id,\n",
    "    currency,\n",
    "    scal.data_prdr_id,\n",
    "    first_disburse_date,\n",
    "    first_disburse_date      sanction_date,\n",
    "    sanction_amt,\n",
    "    to_number('0')           installment_amount_int,\n",
    "    installment_amount,\n",
    "    reason_for_closure,\n",
    "    loan_type,\n",
    "    to_number('0')           number_of_installments,\n",
    "    to_number('0')           no_of_installments_int,\n",
    "    repayment_cycle,\n",
    "    current_bal,\n",
    "    last_amount_paid,\n",
    "    to_number('0')           last_amount_paid_int,\n",
    "    over_due_amt_pricipal,\n",
    "    to_number('0')           over_due_amt_int,\n",
    "    max_num_days_due,\n",
    "    to_number('0')           max_num_days_due_int,\n",
    "    asset_classification,\n",
    "    acc_status,\n",
    "    scal.date_reported,\n",
    "    date_latest_pay_received,\n",
    "    cast(NULL AS DATE)       date_latest_pay_received_int,\n",
    "    date_acc_close,\n",
    "    dispute_id,\n",
    "    cast('' AS VARCHAR2(10)) dispute_status,\n",
    "    --    scal.sin,\n",
    "    cm.date_of_birth,\n",
    "    cm.gender,\n",
    "    cm.sub_nationality, scal.file_id\n",
    "  FROM\n",
    "    (SELECT *\n",
    "     FROM (\n",
    "       SELECT\n",
    "         a.*,\n",
    "         rank()\n",
    "         OVER (PARTITION BY unique_root_id\n",
    "           ORDER BY date_reported DESC) rnk\n",
    "       FROM sbinternal.sb_mfcons_account_lookup@sb2SUB12 a\n",
    "     )\n",
    "     WHERE rnk = 1\n",
    "    ) scal,\n",
    "    sbinternal.consumer_master@sb2SUB12 cm,\n",
    "    (SELECT *\n",
    "     FROM (\n",
    "       SELECT\n",
    "         a.*,\n",
    "         rank()\n",
    "         OVER (PARTITION BY unique_root_id\n",
    "           ORDER BY date_reported DESC) rnk\n",
    "       FROM sbinternal.sb_mfcons_subject_lookup@sb2SUB12 a\n",
    "     )\n",
    "     WHERE rnk = 1\n",
    "    ) scsl\n",
    "  WHERE scsl.isdelinked IS NULL\n",
    "        AND (cm.ruid = scsl.ruid OR cm.merged_ruid = scsl.ruid)\n",
    "        AND scal.unique_root_id = scsl.unique_root_id\n",
    "\"\"\")"
   ]
  },
  {
   "cell_type": "code",
   "execution_count": null,
   "metadata": {
    "collapsed": true
   },
   "outputs": [],
   "source": [
    "ff_fico_00a05 = (\"mg_data_block_builds\", \"\"\"\n",
    "CREATE TABLE mg_data_block_builds AS\n",
    "  SELECT DISTINCT\n",
    "    'MG'                       segment,\n",
    "    cm.merged_ruid,\n",
    "    scal.unique_root_id,\n",
    "    scal.primary_root_id,\n",
    "    currency,\n",
    "    scal.data_prdr_id,\n",
    "    first_disbursment_date     first_disburse_date,\n",
    "    approval_date              sanction_date,\n",
    "    amount_approved            sanction_amt,\n",
    "    instl_amount_interest      installment_amount_int,\n",
    "    instl_amount_principal     installment_amount,\n",
    "    reason_acc_closure         reason_for_closure,\n",
    "    facility_type              loan_type,\n",
    "    to_number('0')             number_of_installments,\n",
    "    to_number('0')             no_of_installments_int,\n",
    "    repay_freq_principal       repayment_cycle,\n",
    "    account_balance            current_bal,\n",
    "    last_principal_amount      last_amount_paid,\n",
    "    last_interest_amount       last_amount_paid_int,\n",
    "    amt_overdue_principal      over_due_amt_pricipal,\n",
    "    amt_overdue_interest       over_due_amt_int,\n",
    "    days_overdue_principal     max_num_days_due,\n",
    "    days_overdue_interest      max_num_days_due_int,\n",
    "    asset_classification,\n",
    "    account_status             acc_status,\n",
    "    scal.date_reported,\n",
    "    pymt_date_principal        date_latest_pay_received,\n",
    "    pymt_date_interest         date_latest_pay_received_int,\n",
    "    account_closing_date       date_acc_close,\n",
    "    dispute_id,\n",
    "    cast(NULL AS VARCHAR2(10)) dispute_status,\n",
    "    --    scal.sin,\n",
    "    cm.date_of_birth,\n",
    "    cm.gender,\n",
    "    cm.sub_nationality, scal.file_id\n",
    "  FROM\n",
    "    (SELECT *\n",
    "     FROM (\n",
    "       SELECT\n",
    "         a.*,\n",
    "         rank()\n",
    "         OVER (PARTITION BY unique_root_id\n",
    "           ORDER BY date_reported DESC) rnk\n",
    "       FROM sbinternal.sb_mgcons_account_lookup@sb2SUB12 a\n",
    "     )\n",
    "     WHERE rnk = 1\n",
    "    ) scal,\n",
    "    sbinternal.consumer_master@sb2SUB12 cm,\n",
    "    (SELECT *\n",
    "     FROM (\n",
    "       SELECT\n",
    "         a.*,\n",
    "         rank()\n",
    "         OVER (PARTITION BY unique_root_id\n",
    "           ORDER BY date_reported DESC) rnk\n",
    "       FROM sbinternal.sb_mgcons_subject_lookup@sb2SUB12 a\n",
    "     )\n",
    "     WHERE rnk = 1\n",
    "    ) scsl\n",
    "  WHERE scsl.isdelinked IS NULL\n",
    "        AND (cm.ruid = scsl.ruid OR cm.merged_ruid = scsl.ruid)\n",
    "        AND scal.unique_root_id = scsl.unique_root_id\n",
    "\"\"\")"
   ]
  },
  {
   "cell_type": "code",
   "execution_count": null,
   "metadata": {
    "collapsed": true
   },
   "outputs": [],
   "source": [
    "ff_fico_00a06 = (\"institution_master\", \"\"\"\n",
    "CREATE TABLE institution_master AS\n",
    "  SELECT *\n",
    "  FROM sbapi.sb_institution_master@sb2SUB12\n",
    "\"\"\")"
   ]
  },
  {
   "cell_type": "code",
   "execution_count": null,
   "metadata": {
    "collapsed": true
   },
   "outputs": [],
   "source": [
    "ff_fico_00a07 = (\"aa_fico_exrate\",\"\"\"\n",
    "CREATE TABLE aa_fico_exrate AS\n",
    "  SELECT *\n",
    "  from crcops.exchange_rate\n",
    "\"\"\")"
   ]
  },
  {
   "cell_type": "code",
   "execution_count": null,
   "metadata": {
    "collapsed": true
   },
   "outputs": [],
   "source": [
    "ff_fico_00a08 = (\"all_enquiries\", \"\"\"\n",
    "CREATE TABLE all_enquiries AS\n",
    "  SELECT DISTINCT\n",
    "    CM.MERGED_RUID,\n",
    "    'INQC|'\n",
    "    || TO_CHAR(SI.REQUEST_DATE, 'YYYY-MM-DD')\n",
    "    || '|'\n",
    "    || PRODUCT_TYPE\n",
    "    || '|'\n",
    "    || '' enquiry_block\n",
    "  FROM CONSUMER_MASTER@sb2SUB12 CM,\n",
    "    sbapi.SB_INQUIRY@sb2SUB12 SI,\n",
    "    sbapi.SB_REPORT_DETAILS@sb2SUB12 SRD\n",
    "  WHERE SRD.REQUEST_ID = SI.REQUEST_ID\n",
    "        AND TO_CHAR(SI.REQUEST_DATE, 'YYYYMM') <= TO_CHAR(SYSDATE, 'YYYYMM')\n",
    "        AND CM.RUID = SRD.RUID\n",
    "\"\"\")"
   ]
  },
  {
   "cell_type": "code",
   "execution_count": null,
   "metadata": {
    "collapsed": true
   },
   "outputs": [],
   "source": [
    "ff_fico_00a08a = (\"fico_enquiries_block\", \"\"\"\n",
    "create table fico_enquiries_block as\n",
    "select merged_ruid,\n",
    "listagg(enquiry_block, '|') within group (order by enquiry_block) enquiries_block\n",
    "from aa_fico_enquiry_blocks group by merged_ruid\n",
    "\"\"\")"
   ]
  },
  {
   "cell_type": "code",
   "execution_count": null,
   "metadata": {
    "collapsed": true
   },
   "outputs": [],
   "source": [
    "ff_fico_01a = (\"all_cons_credit_hst\", \"\"\"\n",
    "CREATE TABLE all_cons_credit_hst\n",
    "AS SELECT *\n",
    "   FROM cb_CONS_CREDIT_hst\n",
    "   UNION ALL SELECT *\n",
    "             FROM mf_CONS_CREDIT_hst\n",
    "   UNION ALL SELECT *\n",
    "             FROM mg_CONS_CREDIT_hst\n",
    "\"\"\")"
   ]
  },
  {
   "cell_type": "code",
   "execution_count": null,
   "metadata": {
    "collapsed": true
   },
   "outputs": [],
   "source": [
    "ff_fico_01b00 = (\"months_index_exceptions\", \"\"\"\n",
    "CREATE TABLE months_index_exceptions\n",
    "AS\n",
    "  SELECT\n",
    "    unique_root_id,\n",
    "    COUNT(*) counts\n",
    "  FROM all_cons_credit_hst\n",
    "  HAVING COUNT(*) > 23\n",
    "  GROUP BY unique_root_id\n",
    "\"\"\")"
   ]
  },
  {
   "cell_type": "code",
   "execution_count": null,
   "metadata": {
    "collapsed": true
   },
   "outputs": [],
   "source": [
    "ff_fico_01b01 = (\"months_index_exceptions\", \"\"\"\n",
    "CREATE TABLE monthly_index_exceptions\n",
    "AS\n",
    "  SELECT\n",
    "    unique_root_id,\n",
    "    month_index,\n",
    "    COUNT(month_index) counts\n",
    "  FROM all_cons_credit_hst\n",
    "  HAVING COUNT(month_index) > 1\n",
    "  GROUP BY unique_root_id, month_index\n",
    "\"\"\")"
   ]
  },
  {
   "cell_type": "code",
   "execution_count": null,
   "metadata": {
    "collapsed": true
   },
   "outputs": [],
   "source": [
    "ff_fico_01b01 = (\"\", \"\"\"\n",
    "create table hst12cons0credit as \n",
    "SELECT MAX(intb.file_id) max_file_id, intb.unique_root_id,\n",
    "    TO_CHAR(LAST_DAY(TO_DATE(intb.HST_DATE_REPORTED, 'yyyy-mm-dd')), 'yyyy-mm-dd') last_day_month_reported\n",
    "FROM all_cons_credit_hst intb \n",
    "group by intb.unique_root_id, TO_CHAR(LAST_DAY(TO_DATE(intb.HST_DATE_REPORTED, 'yyyy-mm-dd')), 'yyyy-mm-dd')\n",
    "\"\"\")"
   ]
  },
  {
   "cell_type": "code",
   "execution_count": null,
   "metadata": {
    "collapsed": true
   },
   "outputs": [],
   "source": []
  },
  {
   "cell_type": "code",
   "execution_count": null,
   "metadata": {
    "collapsed": true
   },
   "outputs": [],
   "source": []
  },
  {
   "cell_type": "code",
   "execution_count": null,
   "metadata": {
    "collapsed": true
   },
   "outputs": [],
   "source": []
  },
  {
   "cell_type": "code",
   "execution_count": null,
   "metadata": {
    "collapsed": true
   },
   "outputs": [],
   "source": []
  },
  {
   "cell_type": "code",
   "execution_count": null,
   "metadata": {
    "collapsed": true
   },
   "outputs": [],
   "source": []
  },
  {
   "cell_type": "code",
   "execution_count": null,
   "metadata": {
    "collapsed": true
   },
   "outputs": [],
   "source": []
  },
  {
   "cell_type": "code",
   "execution_count": null,
   "metadata": {
    "collapsed": true
   },
   "outputs": [],
   "source": []
  },
  {
   "cell_type": "code",
   "execution_count": null,
   "metadata": {
    "collapsed": true
   },
   "outputs": [],
   "source": []
  },
  {
   "cell_type": "code",
   "execution_count": null,
   "metadata": {
    "collapsed": true
   },
   "outputs": [],
   "source": []
  },
  {
   "cell_type": "code",
   "execution_count": null,
   "metadata": {
    "collapsed": true
   },
   "outputs": [],
   "source": []
  },
  {
   "cell_type": "code",
   "execution_count": null,
   "metadata": {
    "collapsed": true
   },
   "outputs": [],
   "source": []
  },
  {
   "cell_type": "code",
   "execution_count": null,
   "metadata": {
    "collapsed": true
   },
   "outputs": [],
   "source": []
  },
  {
   "cell_type": "code",
   "execution_count": null,
   "metadata": {
    "collapsed": true
   },
   "outputs": [],
   "source": []
  },
  {
   "cell_type": "code",
   "execution_count": null,
   "metadata": {
    "collapsed": true
   },
   "outputs": [],
   "source": []
  },
  {
   "cell_type": "code",
   "execution_count": null,
   "metadata": {
    "collapsed": true
   },
   "outputs": [],
   "source": []
  }
 ],
 "metadata": {
  "kernelspec": {
   "display_name": "Python 3",
   "language": "python",
   "name": "python3"
  },
  "language_info": {
   "codemirror_mode": {
    "name": "ipython",
    "version": 3
   },
   "file_extension": ".py",
   "mimetype": "text/x-python",
   "name": "python",
   "nbconvert_exporter": "python",
   "pygments_lexer": "ipython3",
   "version": "3.5.2"
  }
 },
 "nbformat": 4,
 "nbformat_minor": 2
}
